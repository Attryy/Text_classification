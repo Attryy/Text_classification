{
 "cells": [
  {
   "cell_type": "markdown",
   "metadata": {},
   "source": [
    "## Summary\n",
    "\n",
    "This project aims to classify wine on the basis of wine tasting reviews with some text analysis and modeling. The data set is publicly available on [Kaggle](https://www.kaggle.com/zynicide/wine-reviews). There are in total around 130K records in the data set. The summary of the columns are presented below.\n",
    "\n",
    "* **country** : The country that the wine is from\n",
    "* **description**: description of the taster\n",
    "* **designation**: The vineyard within the winery where the grapes that made the wine are from\n",
    "* **points**: The number of points WineEnthusiast rated the wine on a scale of 1-100 (though they say they only post reviews for wines that score >= 80)\n",
    "* **price**: The cost for a bottle of the wine\n",
    "* **province**: The province or state that the wine is from\n",
    "* **region_1**: The wine growing area in a province or state (eg: Napa)\n",
    "* **region_2**: Sometimes there are more specific regions specified within a wine growing area (ie Rutherford inside the Napa Valley), but this value can sometimes be blank\n",
    "* **taster_name**: name of the taster\n",
    "* **taster_twitter_handle**: twitter handle for the taster\n",
    "* **title**: The title of the wine review, which often contains the vintage if you're interested in extracting that feature\n",
    "* **variety**: The type of grapes used to make the wine (eg: Pinot Noir)\n",
    "* **winery**: The winery that made the wine\n",
    "\n",
    "\n",
    "We are going to use the **description** column as the input and predict the varieties of the wine from the labels in **variety** column.\n",
    "\n"
   ]
  },
  {
   "cell_type": "code",
   "execution_count": 4,
   "metadata": {},
   "outputs": [],
   "source": [
    "import warnings\n",
    "warnings.filterwarnings('ignore')"
   ]
  },
  {
   "cell_type": "code",
   "execution_count": 1,
   "metadata": {},
   "outputs": [
    {
     "name": "stderr",
     "output_type": "stream",
     "text": [
      "/usr/local/lib/python3.5/dist-packages/sklearn/ensemble/weight_boosting.py:29: DeprecationWarning: numpy.core.umath_tests is an internal NumPy module and should not be imported. It will be removed in a future NumPy release.\n",
      "  from numpy.core.umath_tests import inner1d\n",
      "/usr/local/lib/python3.5/dist-packages/h5py/__init__.py:36: FutureWarning: Conversion of the second argument of issubdtype from `float` to `np.floating` is deprecated. In future, it will be treated as `np.float64 == np.dtype(float).type`.\n",
      "  from ._conv import register_converters as _register_converters\n",
      "Using TensorFlow backend.\n"
     ]
    },
    {
     "name": "stdout",
     "output_type": "stream",
     "text": [
      "[nltk_data] Downloading package stopwords to /home/jia/nltk_data...\n",
      "[nltk_data]   Package stopwords is already up-to-date!\n"
     ]
    },
    {
     "data": {
      "text/plain": [
       "True"
      ]
     },
     "execution_count": 1,
     "metadata": {},
     "output_type": "execute_result"
    }
   ],
   "source": [
    "import pandas as pd\n",
    "import numpy as np\n",
    "import pickle\n",
    "from sklearn import svm \n",
    "from sklearn.naive_bayes import MultinomialNB, GaussianNB\n",
    "from sklearn import metrics\n",
    "from sklearn.model_selection import train_test_split\n",
    "from sklearn.feature_extraction.text import TfidfVectorizer\n",
    "from sklearn.ensemble import RandomForestClassifier\n",
    "from collections import defaultdict\n",
    "from keras.preprocessing import text, sequence\n",
    "from keras import layers, models, optimizers\n",
    "from keras.models import Sequential\n",
    "from keras.models import Sequential\n",
    "from keras.layers import Dense, Conv1D, Flatten\n",
    "from keras.layers.embeddings import Embedding\n",
    "import nltk\n",
    "nltk.download('stopwords')\n"
   ]
  },
  {
   "cell_type": "markdown",
   "metadata": {},
   "source": [
    "### Preliminary analysis"
   ]
  },
  {
   "cell_type": "markdown",
   "metadata": {},
   "source": [
    "We first load the dataset from the corresponding directory and obtain an overview of it. "
   ]
  },
  {
   "cell_type": "code",
   "execution_count": 2,
   "metadata": {},
   "outputs": [],
   "source": [
    "data = pd.read_csv('/home/yiwei/yiwei_data/winemag-data-130k-v2.csv', index_col = 0)"
   ]
  },
  {
   "cell_type": "code",
   "execution_count": 3,
   "metadata": {},
   "outputs": [
    {
     "name": "stdout",
     "output_type": "stream",
     "text": [
      "<class 'pandas.core.frame.DataFrame'>\n",
      "Int64Index: 129971 entries, 0 to 129970\n",
      "Data columns (total 13 columns):\n",
      "country                  129908 non-null object\n",
      "description              129971 non-null object\n",
      "designation              92506 non-null object\n",
      "points                   129971 non-null int64\n",
      "price                    120975 non-null float64\n",
      "province                 129908 non-null object\n",
      "region_1                 108724 non-null object\n",
      "region_2                 50511 non-null object\n",
      "taster_name              103727 non-null object\n",
      "taster_twitter_handle    98758 non-null object\n",
      "title                    129971 non-null object\n",
      "variety                  129970 non-null object\n",
      "winery                   129971 non-null object\n",
      "dtypes: float64(1), int64(1), object(11)\n",
      "memory usage: 13.9+ MB\n"
     ]
    }
   ],
   "source": [
    "data.info()"
   ]
  },
  {
   "cell_type": "markdown",
   "metadata": {},
   "source": [
    "We remove the one record with *NULL* variety label and keep only the **description** and **variety** for the analysis."
   ]
  },
  {
   "cell_type": "code",
   "execution_count": 4,
   "metadata": {},
   "outputs": [],
   "source": [
    "col = ['description', 'variety']"
   ]
  },
  {
   "cell_type": "code",
   "execution_count": 5,
   "metadata": {},
   "outputs": [],
   "source": [
    "df = data[col]"
   ]
  },
  {
   "cell_type": "code",
   "execution_count": 6,
   "metadata": {},
   "outputs": [],
   "source": [
    "df = df[pd.notnull(df['variety'])]"
   ]
  },
  {
   "cell_type": "markdown",
   "metadata": {},
   "source": [
    "There are $707$ unique wine varieties in total. We only take the top 25 varieties as categories for prediction and remove those records whose variety is not among the top 25. "
   ]
  },
  {
   "cell_type": "code",
   "execution_count": 7,
   "metadata": {},
   "outputs": [
    {
     "data": {
      "text/plain": [
       "707"
      ]
     },
     "execution_count": 7,
     "metadata": {},
     "output_type": "execute_result"
    }
   ],
   "source": [
    "len(df['variety'].unique())"
   ]
  },
  {
   "cell_type": "code",
   "execution_count": 8,
   "metadata": {},
   "outputs": [],
   "source": [
    "top_25 = df.groupby('variety').count().sort_values('description', ascending = False)[0:25]"
   ]
  },
  {
   "cell_type": "code",
   "execution_count": 9,
   "metadata": {
    "scrolled": true
   },
   "outputs": [
    {
     "data": {
      "text/html": [
       "<div>\n",
       "<style scoped>\n",
       "    .dataframe tbody tr th:only-of-type {\n",
       "        vertical-align: middle;\n",
       "    }\n",
       "\n",
       "    .dataframe tbody tr th {\n",
       "        vertical-align: top;\n",
       "    }\n",
       "\n",
       "    .dataframe thead th {\n",
       "        text-align: right;\n",
       "    }\n",
       "</style>\n",
       "<table border=\"1\" class=\"dataframe\">\n",
       "  <thead>\n",
       "    <tr style=\"text-align: right;\">\n",
       "      <th></th>\n",
       "      <th>description</th>\n",
       "    </tr>\n",
       "    <tr>\n",
       "      <th>variety</th>\n",
       "      <th></th>\n",
       "    </tr>\n",
       "  </thead>\n",
       "  <tbody>\n",
       "    <tr>\n",
       "      <th>Pinot Noir</th>\n",
       "      <td>13272</td>\n",
       "    </tr>\n",
       "    <tr>\n",
       "      <th>Chardonnay</th>\n",
       "      <td>11753</td>\n",
       "    </tr>\n",
       "    <tr>\n",
       "      <th>Cabernet Sauvignon</th>\n",
       "      <td>9472</td>\n",
       "    </tr>\n",
       "    <tr>\n",
       "      <th>Red Blend</th>\n",
       "      <td>8946</td>\n",
       "    </tr>\n",
       "    <tr>\n",
       "      <th>Bordeaux-style Red Blend</th>\n",
       "      <td>6915</td>\n",
       "    </tr>\n",
       "    <tr>\n",
       "      <th>Riesling</th>\n",
       "      <td>5189</td>\n",
       "    </tr>\n",
       "    <tr>\n",
       "      <th>Sauvignon Blanc</th>\n",
       "      <td>4967</td>\n",
       "    </tr>\n",
       "    <tr>\n",
       "      <th>Syrah</th>\n",
       "      <td>4142</td>\n",
       "    </tr>\n",
       "    <tr>\n",
       "      <th>Rosé</th>\n",
       "      <td>3564</td>\n",
       "    </tr>\n",
       "    <tr>\n",
       "      <th>Merlot</th>\n",
       "      <td>3102</td>\n",
       "    </tr>\n",
       "    <tr>\n",
       "      <th>Nebbiolo</th>\n",
       "      <td>2804</td>\n",
       "    </tr>\n",
       "    <tr>\n",
       "      <th>Zinfandel</th>\n",
       "      <td>2714</td>\n",
       "    </tr>\n",
       "    <tr>\n",
       "      <th>Sangiovese</th>\n",
       "      <td>2707</td>\n",
       "    </tr>\n",
       "    <tr>\n",
       "      <th>Malbec</th>\n",
       "      <td>2652</td>\n",
       "    </tr>\n",
       "    <tr>\n",
       "      <th>Portuguese Red</th>\n",
       "      <td>2466</td>\n",
       "    </tr>\n",
       "    <tr>\n",
       "      <th>White Blend</th>\n",
       "      <td>2360</td>\n",
       "    </tr>\n",
       "    <tr>\n",
       "      <th>Sparkling Blend</th>\n",
       "      <td>2153</td>\n",
       "    </tr>\n",
       "    <tr>\n",
       "      <th>Tempranillo</th>\n",
       "      <td>1810</td>\n",
       "    </tr>\n",
       "    <tr>\n",
       "      <th>Rhône-style Red Blend</th>\n",
       "      <td>1471</td>\n",
       "    </tr>\n",
       "    <tr>\n",
       "      <th>Pinot Gris</th>\n",
       "      <td>1455</td>\n",
       "    </tr>\n",
       "    <tr>\n",
       "      <th>Champagne Blend</th>\n",
       "      <td>1396</td>\n",
       "    </tr>\n",
       "    <tr>\n",
       "      <th>Cabernet Franc</th>\n",
       "      <td>1353</td>\n",
       "    </tr>\n",
       "    <tr>\n",
       "      <th>Grüner Veltliner</th>\n",
       "      <td>1345</td>\n",
       "    </tr>\n",
       "    <tr>\n",
       "      <th>Portuguese White</th>\n",
       "      <td>1159</td>\n",
       "    </tr>\n",
       "    <tr>\n",
       "      <th>Bordeaux-style White Blend</th>\n",
       "      <td>1066</td>\n",
       "    </tr>\n",
       "  </tbody>\n",
       "</table>\n",
       "</div>"
      ],
      "text/plain": [
       "                            description\n",
       "variety                                \n",
       "Pinot Noir                        13272\n",
       "Chardonnay                        11753\n",
       "Cabernet Sauvignon                 9472\n",
       "Red Blend                          8946\n",
       "Bordeaux-style Red Blend           6915\n",
       "Riesling                           5189\n",
       "Sauvignon Blanc                    4967\n",
       "Syrah                              4142\n",
       "Rosé                               3564\n",
       "Merlot                             3102\n",
       "Nebbiolo                           2804\n",
       "Zinfandel                          2714\n",
       "Sangiovese                         2707\n",
       "Malbec                             2652\n",
       "Portuguese Red                     2466\n",
       "White Blend                        2360\n",
       "Sparkling Blend                    2153\n",
       "Tempranillo                        1810\n",
       "Rhône-style Red Blend              1471\n",
       "Pinot Gris                         1455\n",
       "Champagne Blend                    1396\n",
       "Cabernet Franc                     1353\n",
       "Grüner Veltliner                   1345\n",
       "Portuguese White                   1159\n",
       "Bordeaux-style White Blend         1066"
      ]
     },
     "execution_count": 9,
     "metadata": {},
     "output_type": "execute_result"
    }
   ],
   "source": [
    "top_25"
   ]
  },
  {
   "cell_type": "code",
   "execution_count": 10,
   "metadata": {},
   "outputs": [],
   "source": [
    "label = {variety: num for num, variety in enumerate(top_25.index.tolist())}"
   ]
  },
  {
   "cell_type": "code",
   "execution_count": 11,
   "metadata": {},
   "outputs": [],
   "source": [
    "#{value: key for key, value in label.items()}"
   ]
  },
  {
   "cell_type": "code",
   "execution_count": 12,
   "metadata": {},
   "outputs": [
    {
     "data": {
      "text/plain": [
       "{'Bordeaux-style Red Blend': 4,\n",
       " 'Bordeaux-style White Blend': 24,\n",
       " 'Cabernet Franc': 21,\n",
       " 'Cabernet Sauvignon': 2,\n",
       " 'Champagne Blend': 20,\n",
       " 'Chardonnay': 1,\n",
       " 'Grüner Veltliner': 22,\n",
       " 'Malbec': 13,\n",
       " 'Merlot': 9,\n",
       " 'Nebbiolo': 10,\n",
       " 'Pinot Gris': 19,\n",
       " 'Pinot Noir': 0,\n",
       " 'Portuguese Red': 14,\n",
       " 'Portuguese White': 23,\n",
       " 'Red Blend': 3,\n",
       " 'Rhône-style Red Blend': 18,\n",
       " 'Riesling': 5,\n",
       " 'Rosé': 8,\n",
       " 'Sangiovese': 12,\n",
       " 'Sauvignon Blanc': 6,\n",
       " 'Sparkling Blend': 16,\n",
       " 'Syrah': 7,\n",
       " 'Tempranillo': 17,\n",
       " 'White Blend': 15,\n",
       " 'Zinfandel': 11}"
      ]
     },
     "execution_count": 12,
     "metadata": {},
     "output_type": "execute_result"
    }
   ],
   "source": [
    "label"
   ]
  },
  {
   "cell_type": "code",
   "execution_count": 13,
   "metadata": {},
   "outputs": [],
   "source": [
    "df_top = df[df['variety'].isin(label.keys())]"
   ]
  },
  {
   "cell_type": "markdown",
   "metadata": {},
   "source": [
    "### Dataset preparation\n"
   ]
  },
  {
   "cell_type": "code",
   "execution_count": 14,
   "metadata": {},
   "outputs": [],
   "source": [
    "description_list = df_top['description'].tolist()"
   ]
  },
  {
   "cell_type": "code",
   "execution_count": 15,
   "metadata": {},
   "outputs": [],
   "source": [
    "variety_list = [label[i] for i in df_top['variety'].tolist()]"
   ]
  },
  {
   "cell_type": "code",
   "execution_count": 16,
   "metadata": {},
   "outputs": [],
   "source": [
    "train_x, test_x, train_y, test_y = train_test_split(description_list, variety_list, test_size=0.3, random_state = 1216)"
   ]
  },
  {
   "cell_type": "code",
   "execution_count": 17,
   "metadata": {},
   "outputs": [
    {
     "data": {
      "text/plain": [
       "70163"
      ]
     },
     "execution_count": 17,
     "metadata": {},
     "output_type": "execute_result"
    }
   ],
   "source": [
    "len(train_x)"
   ]
  },
  {
   "cell_type": "code",
   "execution_count": 18,
   "metadata": {},
   "outputs": [
    {
     "data": {
      "text/plain": [
       "30070"
      ]
     },
     "execution_count": 18,
     "metadata": {},
     "output_type": "execute_result"
    }
   ],
   "source": [
    "len(test_x)"
   ]
  },
  {
   "cell_type": "markdown",
   "metadata": {},
   "source": [
    "### Feature engineering"
   ]
  },
  {
   "cell_type": "markdown",
   "metadata": {},
   "source": [
    "In this section, we are going to process the raw text data in description and tranform the text into feature vectors. The following ideas would be explored. \n",
    "\n",
    "* TF-IDF vectors on word level as features: we use the regular expression [\\w\\\\\\%\\']+ to tokenize the text with accents and specify the stopword set as the stopwords from NLTK library. Futhermore, we ignore the tokens that appear in less than $3$ descriptions when building the vocabulary by setting *min_df* = $3$.\n",
    "* TF-IDF vectors on N-gram level as features: we use the same *token_pattern* as TF-IDF on word level and set the ngram_range to $2$ to $3$.  \n",
    "* word embedding vectors as features: we use the pre-trained Glove word embeddings with IDF weightings to build feature vectors."
   ]
  },
  {
   "cell_type": "markdown",
   "metadata": {},
   "source": [
    "#### TF-IDF on word level\n"
   ]
  },
  {
   "cell_type": "code",
   "execution_count": 19,
   "metadata": {},
   "outputs": [
    {
     "data": {
      "text/plain": [
       "TfidfVectorizer(analyzer='word', binary=False, decode_error='strict',\n",
       "        dtype=<class 'numpy.int64'>, encoding='utf-8', input='content',\n",
       "        lowercase=True, max_df=1.0, max_features=None, min_df=3,\n",
       "        ngram_range=(1, 1), norm='l2', preprocessor=None, smooth_idf=True,\n",
       "        stop_words={'will', 'than', \"you're\", 'down', 'o', 'does', 'have', 'me', 'were', \"you'll\", 'in', 'y', 'and', 'this', 'a', 'hers', 'it', 'doing', 'do', 'didn', 'our', 'the', 'they', 'those', 'mightn', 'itself', 'is', 'their', \"couldn't\", 'having', 'further', \"weren't\", 'myself', 'until', 'we', 'yours..., 'all', 'aren', 'of', \"you'd\", 'yours', 'between', 'i', \"you've\", \"mightn't\", 'or', 'his', 'about'},\n",
       "        strip_accents='unicode', sublinear_tf=False,\n",
       "        token_pattern=\"[\\\\w\\\\%']+\", tokenizer=None, use_idf=True,\n",
       "        vocabulary=None)"
      ]
     },
     "execution_count": 19,
     "metadata": {},
     "output_type": "execute_result"
    }
   ],
   "source": [
    "tfidf_vect = TfidfVectorizer(analyzer = 'word',token_pattern='[\\w\\\\%\\']+', strip_accents = 'unicode', stop_words=set(nltk.corpus.stopwords.words('english')), min_df = 3)\n",
    "tfidf_vect.fit(train_x)"
   ]
  },
  {
   "cell_type": "code",
   "execution_count": 21,
   "metadata": {},
   "outputs": [],
   "source": [
    "with open('/home/yiwei/yiwei_data/vectorizerDesc.pk', 'wb') as file:\n",
    "     pickle.dump(tfidf_vect, file)"
   ]
  },
  {
   "cell_type": "code",
   "execution_count": 22,
   "metadata": {},
   "outputs": [
    {
     "data": {
      "text/plain": [
       "12618"
      ]
     },
     "execution_count": 22,
     "metadata": {},
     "output_type": "execute_result"
    }
   ],
   "source": [
    "len(tfidf_vect.vocabulary_)"
   ]
  },
  {
   "cell_type": "code",
   "execution_count": 23,
   "metadata": {},
   "outputs": [],
   "source": [
    "xtrain_tfidf =  tfidf_vect.transform(train_x)\n",
    "xtest_tfidf =  tfidf_vect.transform(test_x)"
   ]
  },
  {
   "cell_type": "markdown",
   "metadata": {},
   "source": [
    "#### TF-IDF on N-gram level"
   ]
  },
  {
   "cell_type": "code",
   "execution_count": 24,
   "metadata": {},
   "outputs": [
    {
     "data": {
      "text/plain": [
       "TfidfVectorizer(analyzer='word', binary=False, decode_error='strict',\n",
       "        dtype=<class 'numpy.int64'>, encoding='utf-8', input='content',\n",
       "        lowercase=True, max_df=1.0, max_features=None, min_df=3,\n",
       "        ngram_range=(2, 3), norm='l2', preprocessor=None, smooth_idf=True,\n",
       "        stop_words={'will', 'than', \"you're\", 'down', 'o', 'does', 'have', 'me', 'were', \"you'll\", 'in', 'y', 'and', 'this', 'a', 'hers', 'it', 'doing', 'do', 'didn', 'our', 'the', 'they', 'those', 'mightn', 'itself', 'is', 'their', \"couldn't\", 'having', 'further', \"weren't\", 'myself', 'until', 'we', 'yours..., 'all', 'aren', 'of', \"you'd\", 'yours', 'between', 'i', \"you've\", \"mightn't\", 'or', 'his', 'about'},\n",
       "        strip_accents='unicode', sublinear_tf=False,\n",
       "        token_pattern=\"[\\\\w\\\\%']+\", tokenizer=None, use_idf=True,\n",
       "        vocabulary=None)"
      ]
     },
     "execution_count": 24,
     "metadata": {},
     "output_type": "execute_result"
    }
   ],
   "source": [
    "tfidf_vect_ngram = TfidfVectorizer(analyzer='word', token_pattern='[\\w\\\\%\\']+',strip_accents = 'unicode', ngram_range=(2,3), stop_words=set(nltk.corpus.stopwords.words('english')), min_df = 3)\n",
    "tfidf_vect_ngram.fit(train_x)"
   ]
  },
  {
   "cell_type": "code",
   "execution_count": 25,
   "metadata": {},
   "outputs": [
    {
     "data": {
      "text/plain": [
       "160671"
      ]
     },
     "execution_count": 25,
     "metadata": {},
     "output_type": "execute_result"
    }
   ],
   "source": [
    "len(tfidf_vect_ngram.vocabulary_)"
   ]
  },
  {
   "cell_type": "code",
   "execution_count": 26,
   "metadata": {},
   "outputs": [],
   "source": [
    "xtrain_ngram =  tfidf_vect_ngram.transform(train_x)\n",
    "xtest_ngram =  tfidf_vect_ngram.transform(test_x)"
   ]
  },
  {
   "cell_type": "markdown",
   "metadata": {},
   "source": [
    "#### Word embedding\n"
   ]
  },
  {
   "cell_type": "markdown",
   "metadata": {},
   "source": [
    "We use the pre-trained Glove word embeddings to tranform each word in the text into a $100$-dimensional vectors. First of all, we load the embeddings as a dictionary with $400000$ key-value pairs. The easiest way to build features with word embeddings is to average the word vectors for all words in the text. Here we first tokenize the text using tfidf_vect (also remove stopwords) and then use the inverse document frequency(IDF) as the weightings for the word vectors to obtain feature vectors. \n",
    "\n",
    "**Note**: to deal with the words that have never been seen, we set the default weighting for unseen words to be maximum of all the IDF's as it has to be less frequently seen than any of the known words. "
   ]
  },
  {
   "cell_type": "code",
   "execution_count": 27,
   "metadata": {},
   "outputs": [],
   "source": [
    "with open(\"/home/yiwei/yiwei_data/glove.6B.100d.txt\", \"rb\") as lines:\n",
    "    wordVec = {line.split()[0].decode('utf-8'): np.array(list(map(float, line.split()[1:])))\n",
    "           for line in lines}"
   ]
  },
  {
   "cell_type": "code",
   "execution_count": 28,
   "metadata": {},
   "outputs": [],
   "source": [
    "# use the tokenizer from tfidf_vect\n",
    "text_tokenizer = tfidf_vect.build_tokenizer()"
   ]
  },
  {
   "cell_type": "code",
   "execution_count": 29,
   "metadata": {},
   "outputs": [],
   "source": [
    "max_idf = max(tfidf_vect.idf_)"
   ]
  },
  {
   "cell_type": "code",
   "execution_count": 30,
   "metadata": {},
   "outputs": [],
   "source": [
    "weight = defaultdict(lambda: max_idf, [(token, tfidf_vect.idf_[i]) for token, i  in tfidf_vect.vocabulary_.items()])"
   ]
  },
  {
   "cell_type": "code",
   "execution_count": 31,
   "metadata": {},
   "outputs": [],
   "source": [
    "xtrain_tokens  = [text_tokenizer(doc) for doc in train_x]"
   ]
  },
  {
   "cell_type": "code",
   "execution_count": 32,
   "metadata": {},
   "outputs": [],
   "source": [
    "xtrain_embedding =  np.array([\n",
    "        np.mean([wordVec[token]*weight[token] for token in text if token in wordVec] \n",
    "                 or [np.zeros(100)], axis=0)\n",
    "        for text in xtrain_tokens\n",
    "        ])"
   ]
  },
  {
   "cell_type": "code",
   "execution_count": 33,
   "metadata": {},
   "outputs": [],
   "source": [
    "xtest_tokens  = [text_tokenizer(doc) for doc in test_x]"
   ]
  },
  {
   "cell_type": "code",
   "execution_count": 34,
   "metadata": {},
   "outputs": [],
   "source": [
    "xtest_embedding =  np.array([\n",
    "        np.mean([wordVec[token]*weight[token] for token in text if token in wordVec] \n",
    "                 or [np.zeros(100)], axis=0)\n",
    "        for text in xtest_tokens\n",
    "        ])"
   ]
  },
  {
   "cell_type": "markdown",
   "metadata": {},
   "source": [
    "### Modelling"
   ]
  },
  {
   "cell_type": "markdown",
   "metadata": {},
   "source": [
    "We explore three classical classifiers for this problem:\n",
    "* multinomial Naive Bayes classifier;\n",
    "* support vector machine (SVM);\n",
    "* neural networks\n",
    "    "
   ]
  },
  {
   "cell_type": "markdown",
   "metadata": {},
   "source": [
    "To avoid writing repeated code, we put together a function for fitting different models with different feature vectors."
   ]
  },
  {
   "cell_type": "code",
   "execution_count": 35,
   "metadata": {},
   "outputs": [],
   "source": [
    "def train_model(clf, feature_train, label_train, feature_test, label_test, name):\n",
    "\n",
    "    clf.fit(feature_train, label_train)\n",
    "    \n",
    "    # save the model to disk\n",
    "    filename = '/home/yiwei/yiwei_data/'+name+'.sav'\n",
    "    pickle.dump(clf, open(filename, 'wb'))\n",
    "    \n",
    "    y_predict = clf.predict(feature_test)\n",
    "    \n",
    "    \n",
    "    return metrics.accuracy_score(y_predict, label_test )"
   ]
  },
  {
   "cell_type": "markdown",
   "metadata": {},
   "source": [
    "#### Multinomial Naive Bayes\n"
   ]
  },
  {
   "cell_type": "code",
   "execution_count": 92,
   "metadata": {},
   "outputs": [],
   "source": [
    "print('Multinomial Naive Bayes Accuracy with TF-IDF on word level: %0.4f' % train_model(MultinomialNB(), xtrain_tfidf, train_y, xtest_tfidf, test_y, name = 'MultiNB'))"
   ]
  },
  {
   "cell_type": "code",
   "execution_count": 82,
   "metadata": {},
   "outputs": [
    {
     "name": "stdout",
     "output_type": "stream",
     "text": [
      "Multinomial Naive Bayes Accuracy with TF-IDF on N-gram level: 0.4738\n"
     ]
    }
   ],
   "source": [
    "print('Multinomial Naive Bayes Accuracy with TF-IDF on N-gram level: %0.4f' % train_model(MultinomialNB(), xtrain_ngram, train_y, xtest_ngram, test_y, name = 'MultiNB_ngram'))"
   ]
  },
  {
   "cell_type": "markdown",
   "metadata": {},
   "source": [
    "Because Multinomial Naive Bayes is intended for non-negative input, we use Gaussian Naive Bayes classifier to predict the wine variety based on the word embedding vectors."
   ]
  },
  {
   "cell_type": "code",
   "execution_count": 83,
   "metadata": {},
   "outputs": [
    {
     "name": "stdout",
     "output_type": "stream",
     "text": [
      "Multinomial Naive Bayes Accuracy with word embedding: 0.1473\n"
     ]
    }
   ],
   "source": [
    "print('Multinomial Naive Bayes Accuracy with word embedding: %0.4f' % train_model(GaussianNB(), xtrain_embedding, train_y, xtest_embedding, test_y, name = 'MultiNB_embedding'))"
   ]
  },
  {
   "cell_type": "markdown",
   "metadata": {},
   "source": [
    "#### SVM model"
   ]
  },
  {
   "cell_type": "code",
   "execution_count": 87,
   "metadata": {},
   "outputs": [
    {
     "name": "stdout",
     "output_type": "stream",
     "text": [
      "SVM Accuracy with TF-IDF on word level: 0.7132\n"
     ]
    }
   ],
   "source": [
    "print('SVM Accuracy with TF-IDF on word level: %0.4f' % train_model(svm.SVC(kernel = 'linear'), xtrain_tfidf, train_y, xtest_tfidf, test_y, name = 'svcModel'))"
   ]
  },
  {
   "cell_type": "code",
   "execution_count": null,
   "metadata": {},
   "outputs": [],
   "source": [
    "print('SVM Accuracy with TF-IDF on N-gram level: %0.4f' % train_model(svm.SVC(kernel = 'linear'), xtrain_ngram, train_y, xtest_ngram, test_y, name = 'svcModel_ngram'))"
   ]
  },
  {
   "cell_type": "markdown",
   "metadata": {},
   "source": [
    "SVM accuracy with TF-IDF on N-gram level : 0.6262"
   ]
  },
  {
   "cell_type": "code",
   "execution_count": null,
   "metadata": {},
   "outputs": [],
   "source": [
    "print('SVM Accuracy with word embedding: %0.4f' % train_model(svm.SVC(kernel = 'linear'), xtrain_embedding, train_y, xtest_embedding, test_y, name = 'svcEmbedding'))"
   ]
  },
  {
   "cell_type": "markdown",
   "metadata": {},
   "source": [
    "#### Neural network\n"
   ]
  },
  {
   "cell_type": "markdown",
   "metadata": {},
   "source": [
    "To prepare the input data for the neural network, we first examine the length of the tokens in the training data and pad the sequence with Keras function *pad_sequences* with *maxlen* = $200$."
   ]
  },
  {
   "cell_type": "code",
   "execution_count": 36,
   "metadata": {},
   "outputs": [
    {
     "data": {
      "text/plain": [
       "12618"
      ]
     },
     "execution_count": 36,
     "metadata": {},
     "output_type": "execute_result"
    }
   ],
   "source": [
    "len(tfidf_vect.vocabulary_)"
   ]
  },
  {
   "cell_type": "code",
   "execution_count": 37,
   "metadata": {},
   "outputs": [
    {
     "data": {
      "text/plain": [
       "136"
      ]
     },
     "execution_count": 37,
     "metadata": {},
     "output_type": "execute_result"
    }
   ],
   "source": [
    "max([len(doc) for doc in xtrain_tokens])"
   ]
  },
  {
   "cell_type": "code",
   "execution_count": 102,
   "metadata": {},
   "outputs": [],
   "source": [
    "from keras.preprocessing.text import Tokenizer\n",
    "tokenizerKeras= Tokenizer(num_words= 1000, filters='!\"#$&()*+,-./:;<=>?@[\\]^_`{|}~', lower=True, split=' ', char_level=False, oov_token=None)"
   ]
  },
  {
   "cell_type": "code",
   "execution_count": 103,
   "metadata": {},
   "outputs": [],
   "source": [
    "tokenizerKeras.fit_on_texts(xtrain_tokens)"
   ]
  },
  {
   "cell_type": "code",
   "execution_count": 104,
   "metadata": {},
   "outputs": [],
   "source": [
    "xtrain_seq = sequence.pad_sequences(tokenizerKeras.texts_to_sequences(xtrain_tokens), maxlen=200,  dtype='int32', padding='pre', truncating='pre', value=0.0)"
   ]
  },
  {
   "cell_type": "code",
   "execution_count": 105,
   "metadata": {},
   "outputs": [],
   "source": [
    "xtest_seq = sequence.pad_sequences(tokenizerKeras.texts_to_sequences(xtest_tokens), maxlen=200,  dtype='int32', padding='pre', truncating='pre', value=0.0)"
   ]
  },
  {
   "cell_type": "code",
   "execution_count": 106,
   "metadata": {},
   "outputs": [
    {
     "data": {
      "text/plain": [
       "(70163, 150)"
      ]
     },
     "execution_count": 106,
     "metadata": {},
     "output_type": "execute_result"
    }
   ],
   "source": [
    "xtrain_seq.shape"
   ]
  },
  {
   "cell_type": "code",
   "execution_count": 107,
   "metadata": {},
   "outputs": [],
   "source": [
    "from keras.utils import to_categorical"
   ]
  },
  {
   "cell_type": "code",
   "execution_count": 108,
   "metadata": {},
   "outputs": [
    {
     "data": {
      "text/plain": [
       "(70163, 25)"
      ]
     },
     "execution_count": 108,
     "metadata": {},
     "output_type": "execute_result"
    }
   ],
   "source": [
    "train_y_encoded.shape"
   ]
  },
  {
   "cell_type": "code",
   "execution_count": 109,
   "metadata": {},
   "outputs": [],
   "source": [
    "train_y_encoded = to_categorical(train_y)\n",
    "test_y_encoded = to_categorical(test_y)"
   ]
  },
  {
   "cell_type": "code",
   "execution_count": 111,
   "metadata": {},
   "outputs": [],
   "source": [
    "model = Sequential()\n",
    "\n",
    "model.add(Embedding(input_dim = 20000, output_dim = 64, input_length = 200))\n",
    "model.add(Flatten())\n",
    "model.add(Dense(64, input_shape=(64,),activation='relu'))\n",
    "model.add(Dense(25, input_shape= (100,) ,activation='softmax'))\n",
    "model.compile(loss='categorical_crossentropy', optimizer='adam', metrics=['accuracy'])\n",
    "\n",
    "model.fit(xtrain_seq, train_y_encoded, epochs=3, batch_size=64)"
   ]
  },
  {
   "cell_type": "markdown",
   "metadata": {},
   "source": [
    "#### Final model trained on all data points"
   ]
  },
  {
   "cell_type": "code",
   "execution_count": null,
   "metadata": {},
   "outputs": [],
   "source": [
    "tfidf_vect.fit(description_list)"
   ]
  },
  {
   "cell_type": "code",
   "execution_count": null,
   "metadata": {},
   "outputs": [],
   "source": [
    "x_tfidf =  tfidf_vect.transform(description_list)"
   ]
  },
  {
   "cell_type": "code",
   "execution_count": null,
   "metadata": {},
   "outputs": [],
   "source": [
    "clf = svm.SVC(kernel = 'linear')"
   ]
  },
  {
   "cell_type": "code",
   "execution_count": null,
   "metadata": {},
   "outputs": [],
   "source": [
    "clf.fit( x_tfidf, variety_list)"
   ]
  },
  {
   "cell_type": "code",
   "execution_count": null,
   "metadata": {},
   "outputs": [],
   "source": [
    "filename = '/home/yiwei/yiwei_data/SVMmodel.sav'\n",
    "    pickle.dump(clf, open(filename, 'wb'))"
   ]
  }
 ],
 "metadata": {
  "kernelspec": {
   "display_name": "Python 3",
   "language": "python",
   "name": "python3"
  },
  "language_info": {
   "codemirror_mode": {
    "name": "ipython",
    "version": 3
   },
   "file_extension": ".py",
   "mimetype": "text/x-python",
   "name": "python",
   "nbconvert_exporter": "python",
   "pygments_lexer": "ipython3",
   "version": "3.5.2"
  }
 },
 "nbformat": 4,
 "nbformat_minor": 2
}
